{
 "cells": [
  {
   "cell_type": "markdown",
   "metadata": {},
   "source": [
    "# Apriori Alogrithm"
   ]
  },
  {
   "cell_type": "markdown",
   "metadata": {},
   "source": [
    "## Planning (will be removed)\n",
    "\n",
    "`\n",
    "candid_set = self_join(F_prev)\n",
    "`\n",
    "\n",
    "`\n",
    "candid_set = prune(candid_set)\n",
    "`\n",
    "\n",
    "`\n",
    "candid_set = find_support_values(candid_set)\n",
    "`\n",
    "\n",
    "`\n",
    "Frequent_itemset = candid_set\n",
    "`"
   ]
  },
  {
   "cell_type": "markdown",
   "metadata": {},
   "source": [
    "## Imports"
   ]
  },
  {
   "cell_type": "code",
   "execution_count": 3,
   "metadata": {},
   "outputs": [],
   "source": [
    "from itertools import combinations"
   ]
  },
  {
   "cell_type": "markdown",
   "metadata": {},
   "source": [
    "## Transactional Dataset Initialization"
   ]
  },
  {
   "cell_type": "code",
   "execution_count": 5,
   "metadata": {},
   "outputs": [],
   "source": [
    "TDB: dict = {'TID': [0, 1, 2, 3], 'Items':[['a', 'c', 'd'], ['b', 'c', 'e'], ['a', 'b', 'c', 'e'], ['b', 'e']]}"
   ]
  },
  {
   "cell_type": "markdown",
   "metadata": {},
   "source": [
    "## Frequent Itemset and Candids Structure Initialization"
   ]
  },
  {
   "cell_type": "code",
   "execution_count": 9,
   "metadata": {},
   "outputs": [],
   "source": [
    "frequent_itemsets: dict = {'Itemset':[], 'Support':[]}"
   ]
  },
  {
   "cell_type": "code",
   "execution_count": 11,
   "metadata": {},
   "outputs": [],
   "source": [
    "candids: dict = {'Itemset':[], 'Support':[]}"
   ]
  },
  {
   "cell_type": "markdown",
   "metadata": {},
   "source": [
    "## Utility Functions"
   ]
  },
  {
   "cell_type": "code",
   "execution_count": null,
   "metadata": {},
   "outputs": [],
   "source": [
    "def find_support_values(C: dict) -> dict:\n",
    "    \"\"\"\n",
    "    Extracts support values of the given Candidate Itemset from TDB.\n",
    "    \n",
    "    **Params**\n",
    "    \n",
    "    C: Candidates Itemset\n",
    "    \n",
    "    **Output**\n",
    "    \n",
    "    Candidate Itemset Dictionary with support values\n",
    "    \"\"\"\n",
    "    \n",
    "    for candid in C['Itemset']:\n",
    "        sup = 0\n",
    "        \n",
    "        for item in candid:\n",
    "            for t in TDB['Items']:\n",
    "                if item in t:\n",
    "                    sup += 1\n",
    "        # won't work for more than k > 1 itemsets\n",
    "    "
   ]
  },
  {
   "cell_type": "code",
   "execution_count": null,
   "metadata": {},
   "outputs": [],
   "source": []
  }
 ],
 "metadata": {
  "kernelspec": {
   "display_name": "DataMining2024",
   "language": "python",
   "name": "python3"
  },
  "language_info": {
   "codemirror_mode": {
    "name": "ipython",
    "version": 3
   },
   "file_extension": ".py",
   "mimetype": "text/x-python",
   "name": "python",
   "nbconvert_exporter": "python",
   "pygments_lexer": "ipython3",
   "version": "3.11.10"
  }
 },
 "nbformat": 4,
 "nbformat_minor": 2
}
