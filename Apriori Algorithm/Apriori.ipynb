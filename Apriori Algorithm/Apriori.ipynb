{
 "cells": [
  {
   "cell_type": "markdown",
   "metadata": {},
   "source": [
    "# Apriori Alogrithm"
   ]
  },
  {
   "cell_type": "markdown",
   "metadata": {},
   "source": [
    "## Planning (will be removed)\n",
    "\n",
    "`\n",
    "candid_set = self_join(F_prev)\n",
    "`\n",
    "\n",
    "`\n",
    "candid_set = prune(candid_set)\n",
    "`\n",
    "\n",
    "`\n",
    "candid_set = find_support_values(candid_set)\n",
    "`\n",
    "\n",
    "`\n",
    "Frequent_itemset = candid_set\n",
    "`"
   ]
  },
  {
   "cell_type": "markdown",
   "metadata": {},
   "source": [
    "## Imports"
   ]
  },
  {
   "cell_type": "code",
   "execution_count": 1,
   "metadata": {},
   "outputs": [],
   "source": [
    "from itertools import combinations\n",
    "from copy import deepcopy"
   ]
  },
  {
   "cell_type": "markdown",
   "metadata": {},
   "source": [
    "## Transactional Dataset Initialization"
   ]
  },
  {
   "cell_type": "code",
   "execution_count": 2,
   "metadata": {},
   "outputs": [],
   "source": [
    "TDB: dict = {'TID': [0, 1, 2, 3], 'Items':[['a', 'c', 'd'], ['b', 'c', 'e'], ['a', 'b', 'c', 'e'], ['b', 'e']]}"
   ]
  },
  {
   "cell_type": "markdown",
   "metadata": {},
   "source": [
    "## Frequent Itemset and Candids Structure Initialization"
   ]
  },
  {
   "cell_type": "code",
   "execution_count": 3,
   "metadata": {},
   "outputs": [],
   "source": [
    "frequent_itemsets: dict = {'Itemset':[], 'Support':[]}"
   ]
  },
  {
   "cell_type": "code",
   "execution_count": 4,
   "metadata": {},
   "outputs": [],
   "source": [
    "candids: dict = {'Itemset':[], 'Support':[]}"
   ]
  },
  {
   "cell_type": "markdown",
   "metadata": {},
   "source": [
    "## Functions"
   ]
  },
  {
   "cell_type": "code",
   "execution_count": 52,
   "metadata": {},
   "outputs": [],
   "source": [
    "def self_join(f: dict) -> dict:\n",
    "    itemsets = f['Itemset']\n",
    "    k = len(itemsets[0]) + 1 # k_new = (k_prev + 1)_item set\n",
    "    combins = list(combinations(itemsets, 2))\n",
    "    \n",
    "    candids_new = {'Itemset':[], 'Support':[]}\n",
    "    \n",
    "    for comb in combins:\n",
    "        item_set = list(set(comb[0]) | set(comb[1]))\n",
    "        if len(item_set) > k:\n",
    "            continue\n",
    "        if item_set not in candids_new['Itemset']:\n",
    "            candids_new['Itemset'].append(item_set)\n",
    "        \n",
    "    return candids_new\n",
    "    "
   ]
  },
  {
   "cell_type": "code",
   "execution_count": null,
   "metadata": {},
   "outputs": [],
   "source": []
  },
  {
   "cell_type": "code",
   "execution_count": 53,
   "metadata": {},
   "outputs": [],
   "source": [
    "def prune(candid_sets: dict, f: dict) -> dict:\n",
    "    item_sets_candid = deepcopy(candid_sets['Itemset'])\n",
    "    \n",
    "    for item_set in item_sets_candid:\n",
    "        subsets = list(combinations(set(item_set), len(item_set) - 1))\n",
    "        print(subsets)\n",
    "        print('...........................................')\n",
    "        for subset in subsets:\n",
    "            subset_is_frequent = False\n",
    "            for f_item_set in f['Itemset']:\n",
    "                if(len(set(subset).symmetric_difference(set(f_item_set))) == 0):\n",
    "                    subset_is_frequent = True\n",
    "                    break\n",
    "                                \n",
    "            if(not subset_is_frequent):\n",
    "                candid_sets[\"Itemset\"].remove(item_set)\n",
    "                \n",
    "        \n",
    "            \n",
    "                    \n",
    "    return candid_sets"
   ]
  },
  {
   "cell_type": "code",
   "execution_count": 54,
   "metadata": {},
   "outputs": [
    {
     "data": {
      "text/plain": [
       "{'Itemset': [['a', 'b'], ['b', 'c'], ['b', 'e'], ['c', 'e']], 'Support': []}"
      ]
     },
     "execution_count": 54,
     "metadata": {},
     "output_type": "execute_result"
    }
   ],
   "source": [
    "frequent_itemsets: dict = {'Itemset':[], 'Support':[]}\n",
    "\n",
    "frequent_itemsets['Itemset'].append(['a', 'b'])\n",
    "frequent_itemsets['Itemset'].append(['b', 'c'])\n",
    "frequent_itemsets['Itemset'].append(['b', 'e'])\n",
    "frequent_itemsets['Itemset'].append(['c', 'e'])\n",
    "frequent_itemsets\n"
   ]
  },
  {
   "cell_type": "code",
   "execution_count": 55,
   "metadata": {},
   "outputs": [],
   "source": [
    "a = self_join(frequent_itemsets)"
   ]
  },
  {
   "cell_type": "code",
   "execution_count": 56,
   "metadata": {},
   "outputs": [
    {
     "data": {
      "text/plain": [
       "{'Itemset': [['c', 'a', 'b'], ['a', 'b', 'e'], ['c', 'b', 'e']], 'Support': []}"
      ]
     },
     "execution_count": 56,
     "metadata": {},
     "output_type": "execute_result"
    }
   ],
   "source": [
    "a"
   ]
  },
  {
   "cell_type": "code",
   "execution_count": 57,
   "metadata": {},
   "outputs": [
    {
     "name": "stdout",
     "output_type": "stream",
     "text": [
      "[('c', 'a'), ('c', 'b'), ('a', 'b')]\n",
      "...........................................\n",
      "[('a', 'b'), ('a', 'e'), ('b', 'e')]\n",
      "...........................................\n",
      "[('c', 'b'), ('c', 'e'), ('b', 'e')]\n",
      "...........................................\n"
     ]
    }
   ],
   "source": [
    "a = prune(a, frequent_itemsets)"
   ]
  },
  {
   "cell_type": "code",
   "execution_count": 58,
   "metadata": {},
   "outputs": [
    {
     "data": {
      "text/plain": [
       "{'Itemset': [['c', 'b', 'e']], 'Support': []}"
      ]
     },
     "execution_count": 58,
     "metadata": {},
     "output_type": "execute_result"
    }
   ],
   "source": [
    "a"
   ]
  },
  {
   "cell_type": "code",
   "execution_count": 59,
   "metadata": {},
   "outputs": [],
   "source": [
    "def find_support_values(c: dict, tdb) -> dict:\n",
    "    \"\"\"\n",
    "    Extracts support values of the given Candidate Item set from TDB.\n",
    "    \n",
    "    **Params**\n",
    "    \n",
    "    c: Candidates Item set\n",
    "    tdb: transitional database\n",
    "    \n",
    "    \n",
    "    **Output**\n",
    "    \n",
    "    Candidate Item set Dictionary with support values\n",
    "    \"\"\"\n",
    "    \n",
    "    supports = []\n",
    "    for item_set in c['Itemset']:\n",
    "        sup = 0\n",
    "        for t in tdb['Items']:\n",
    "            if len(set(item_set) - set(t)) == 0:\n",
    "                sup += 1\n",
    "        \n",
    "        supports.append(sup)\n",
    "        \n",
    "    c['Support'] = supports\n",
    "    \n",
    "    return c"
   ]
  },
  {
   "cell_type": "code",
   "execution_count": 60,
   "metadata": {},
   "outputs": [
    {
     "data": {
      "text/plain": [
       "{'Itemset': [['c', 'b', 'e']], 'Support': [2]}"
      ]
     },
     "execution_count": 60,
     "metadata": {},
     "output_type": "execute_result"
    }
   ],
   "source": [
    "find_support_values(a, TDB)"
   ]
  },
  {
   "cell_type": "code",
   "execution_count": null,
   "metadata": {},
   "outputs": [],
   "source": [
    "def limit_candids(c: dict, min_sup: int):\n",
    "    supports = c['Support'].copy()\n",
    "    for i in range(len(supports)):\n",
    "        if supports[i] < min_sup:\n",
    "            c[\"Support\"].pop(i)\n",
    "            c[\"Itemset\"].pop(i)\n",
    "            \n",
    "    return None"
   ]
  },
  {
   "cell_type": "code",
   "execution_count": 50,
   "metadata": {},
   "outputs": [
    {
     "data": {
      "text/plain": [
       "set()"
      ]
     },
     "execution_count": 50,
     "metadata": {},
     "output_type": "execute_result"
    }
   ],
   "source": [
    "g = {1, 2 ,3}\n",
    "n = {1, 2, 3, 4}\n",
    "g.symmetric_difference(n)\n",
    "g - n"
   ]
  },
  {
   "cell_type": "code",
   "execution_count": null,
   "metadata": {},
   "outputs": [],
   "source": []
  }
 ],
 "metadata": {
  "kernelspec": {
   "display_name": "DataMining2024",
   "language": "python",
   "name": "python3"
  },
  "language_info": {
   "codemirror_mode": {
    "name": "ipython",
    "version": 3
   },
   "file_extension": ".py",
   "mimetype": "text/x-python",
   "name": "python",
   "nbconvert_exporter": "python",
   "pygments_lexer": "ipython3",
   "version": "3.11.10"
  }
 },
 "nbformat": 4,
 "nbformat_minor": 2
}
